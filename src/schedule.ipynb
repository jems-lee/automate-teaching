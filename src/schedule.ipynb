{
 "cells": [
  {
   "cell_type": "code",
   "execution_count": 11,
   "id": "fitted-semester",
   "metadata": {},
   "outputs": [],
   "source": [
    "import pandas as pd\n",
    "from numpy import NaN\n",
    "from dotenv import dotenv_values\n",
    "\n",
    "from helpers import read_worksheet"
   ]
  },
  {
   "cell_type": "code",
   "execution_count": 12,
   "id": "curious-intermediate",
   "metadata": {},
   "outputs": [],
   "source": [
    "#%config Completer.use_jedi = False\n",
    "config = dotenv_values(\".env\")"
   ]
  },
  {
   "cell_type": "code",
   "execution_count": 13,
   "id": "measured-trigger",
   "metadata": {},
   "outputs": [],
   "source": [
    "worksheet_schedule = \"Schedule02\"\n",
    "worksheet_textbook = \"TextbookInfo\"\n",
    "spreadsheet_key = config[\"SPREADSHEET_KEY\"]"
   ]
  },
  {
   "cell_type": "code",
   "execution_count": null,
   "id": "answering-gnome",
   "metadata": {},
   "outputs": [],
   "source": [
    "df_schedule = read_worksheet(\n",
    "    spreadsheet_key=spreadsheet_key, worksheet_name=worksheet_schedule\n",
    ")\n",
    "df_textbook = read_worksheet(\n",
    "    spreadsheet_key=spreadsheet_key, worksheet_name=worksheet_textbook\n",
    ")"
   ]
  },
  {
   "cell_type": "code",
   "execution_count": null,
   "id": "institutional-deployment",
   "metadata": {},
   "outputs": [],
   "source": [
    "df_schedule[\"Chapter\"] = df_schedule.Topic[df_schedule.Lecture == \"T\"].apply(\n",
    "    lambda x: x.split(\".\")[0]\n",
    ")\n",
    "df_schedule[\"Section\"] = df_schedule.Topic[df_schedule.Lecture == \"T\"].apply(\n",
    "    lambda x: x.split(\".\")[1]\n",
    ")"
   ]
  },
  {
   "cell_type": "code",
   "execution_count": null,
   "id": "thick-sequence",
   "metadata": {},
   "outputs": [],
   "source": [
    "df_merge = df_schedule.merge(df_textbook, on=[\"Chapter\", \"Section\"], how=\"left\")\n",
    "df_merge = df_merge.replace(NaN, \"\")"
   ]
  },
  {
   "cell_type": "code",
   "execution_count": null,
   "id": "golden-local",
   "metadata": {},
   "outputs": [],
   "source": [
    "document_strings = []\n",
    "dates = []\n",
    "sections = []\n",
    "for each in df_merge.groupby(\"Date\"):\n",
    "    date_str = each[0]\n",
    "    df = each[1]\n",
    "    topics = \", \".join([f\"{x}\" for x in df.Topic])\n",
    "    descs = df.Description\n",
    "    line = \", \".join([f\"{x}\" for x in descs])\n",
    "    dates.append(date_str)\n",
    "    sections.append(topics)\n",
    "    document_strings.append(line)\n",
    "df_formatted_schedule = pd.DataFrame(\n",
    "    {\"Dates\": dates, \"Section\": sections, \"Topic\": document_strings}\n",
    ")"
   ]
  },
  {
   "cell_type": "markdown",
   "id": "automated-premiere",
   "metadata": {
    "variables": {
     "df_formatted_schedule.style.hide_index()": {}
    }
   },
   "source": [
    "## <p style=\"text-align: center;\">Schedule</p>\n",
    "\n",
    "{{df_formatted_schedule.style.hide_index()}}"
   ]
  },
  {
   "cell_type": "code",
   "execution_count": null,
   "id": "considered-thickness",
   "metadata": {},
   "outputs": [],
   "source": []
  }
 ],
 "metadata": {
  "kernelspec": {
   "display_name": "PyCharm (notebook)",
   "language": "python",
   "name": "pycharm-9171a2df"
  },
  "language_info": {
   "codemirror_mode": {
    "name": "ipython",
    "version": 3
   },
   "file_extension": ".py",
   "mimetype": "text/x-python",
   "name": "python",
   "nbconvert_exporter": "python",
   "pygments_lexer": "ipython3",
   "version": "3.7.10"
  }
 },
 "nbformat": 4,
 "nbformat_minor": 5
}
