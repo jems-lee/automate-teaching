{
 "cells": [
  {
   "cell_type": "code",
   "execution_count": 1,
   "metadata": {},
   "outputs": [],
   "source": [
    "from dotenv import dotenv_values\n",
    "from helpers import read_worksheet, get_formatted_date, format_homework_problems"
   ]
  },
  {
   "cell_type": "code",
   "execution_count": 2,
   "metadata": {},
   "outputs": [],
   "source": [
    "#%config Completer.use_jedi = False\n",
    "config = dotenv_values(\".env\")"
   ]
  },
  {
   "cell_type": "code",
   "execution_count": 3,
   "metadata": {},
   "outputs": [],
   "source": [
    "HW = \"HW04\""
   ]
  },
  {
   "cell_type": "code",
   "execution_count": 4,
   "metadata": {},
   "outputs": [],
   "source": [
    "worksheet_textbook = \"TextbookInfo\"\n",
    "worksheet_hw = HW\n",
    "worksheet_schedule = \"Schedule\"\n",
    "spreadsheet_key = config[\"SPREADSHEET_KEY\"] # TODO: hide secrets"
   ]
  },
  {
   "cell_type": "code",
   "execution_count": 5,
   "metadata": {},
   "outputs": [],
   "source": [
    "df_textbook = read_worksheet(spreadsheet_key=spreadsheet_key, worksheet_name=worksheet_textbook)\n",
    "df_schedule = read_worksheet(worksheet_schedule, spreadsheet_key)\n",
    "df_hw = read_worksheet(worksheet_hw, spreadsheet_key)\n",
    "df_hw = df_hw[df_hw.Include == \"TRUE\"]\n"
   ]
  },
  {
   "cell_type": "code",
   "execution_count": 6,
   "metadata": {},
   "outputs": [],
   "source": [
    "duedate_string = get_formatted_date(hw_name=HW, df_schedule=df_schedule)"
   ]
  },
  {
   "cell_type": "code",
   "execution_count": 7,
   "metadata": {},
   "outputs": [],
   "source": [
    "formatted_hw_problems = format_homework_problems(df_hw=df_hw, df_textbook=df_textbook)"
   ]
  },
  {
   "cell_type": "markdown",
   "metadata": {},
   "source": [
    "# Assignment 4"
   ]
  },
  {
   "cell_type": "markdown",
   "metadata": {
    "variables": {
     "duedate_string": "03-26-21"
    }
   },
   "source": [
    "### Due Date: {{duedate_string}}"
   ]
  },
  {
   "cell_type": "markdown",
   "metadata": {},
   "source": [
    "Please submit your solutions in typed or handwritten form as a single pdf.\n",
    "Show your work."
   ]
  },
  {
   "cell_type": "markdown",
   "metadata": {
    "variables": {
     "for x in formatted_hw_problems: print(x+\"  \")": "4.1 PDFs and CDFs: 1, 13<br>4.2 Expected Values and MGFs: 18, 23, 32<br>4.3 Normal Distribution: 43, 49, 51, 63  "
    }
   },
   "source": [
    "{{for x in formatted_hw_problems: print(x+\"  \")}}"
   ]
  },
  {
   "cell_type": "markdown",
   "metadata": {},
   "source": [
    "### Extra Credit"
   ]
  },
  {
   "cell_type": "code",
   "execution_count": null,
   "metadata": {},
   "outputs": [],
   "source": []
  }
 ],
 "metadata": {
  "kernelspec": {
   "display_name": "PyCharm (notebook)",
   "language": "python",
   "name": "pycharm-9171a2df"
  },
  "language_info": {
   "codemirror_mode": {
    "name": "ipython",
    "version": 3
   },
   "file_extension": ".py",
   "mimetype": "text/x-python",
   "name": "python",
   "nbconvert_exporter": "python",
   "pygments_lexer": "ipython3",
   "version": "3.7.10"
  }
 },
 "nbformat": 4,
 "nbformat_minor": 4
}
